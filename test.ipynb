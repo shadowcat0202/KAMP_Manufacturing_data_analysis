{
  "cells": [
    {
      "cell_type": "code",
      "metadata": {},
      "source": [
        "import pandas as pd\n",
        "import numpy as np\n",
        "\n",
        "df = pd.DataFrame({'B': [np.nan, 1, 2, np.nan, 4]})\n",
        "df.fillna(method='ffill', inplace=True)\n",
        "\n",
        "if np.isnan(df.at[0, 'B']):\n",
        "    df.at[0, 'B'] = \"HI\"\n",
        "    # print(1)\n",
        "# if df.loc[0, 'B'] == np.nan:\n",
        "#     print('HI')\n",
        "\n",
        "print(df)\n",
        "# print(df.loc[0, 'B'])\n",
        "\n",
        "\n",
        "\n"
      ],
      "outputs": [],
      "execution_count": null
    }
  ],
  "metadata": {
    "anaconda-cloud": {},
    "kernelspec": {
      "display_name": "Python 3",
      "language": "python",
      "name": "python3"
    },
    "language_info": {
      "codemirror_mode": {
        "name": "ipython",
        "version": 3
      },
      "file_extension": ".py",
      "mimetype": "text/x-python",
      "name": "python",
      "nbconvert_exporter": "python",
      "pygments_lexer": "ipython3",
      "version": "3.6.1"
    }
  },
  "nbformat": 4,
  "nbformat_minor": 4
}